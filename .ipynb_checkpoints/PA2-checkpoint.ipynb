version https://git-lfs.github.com/spec/v1
oid sha256:614fc118ca1f5254ba40d7f23be53d8c6311e5d2454b22348b89f64c86b46c1a
size 255469124
